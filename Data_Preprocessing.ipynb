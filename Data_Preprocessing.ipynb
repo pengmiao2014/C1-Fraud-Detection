{
 "cells": [
  {
   "cell_type": "markdown",
   "metadata": {},
   "source": [
    "# Import Data"
   ]
  },
  {
   "cell_type": "code",
   "execution_count": null,
   "metadata": {
    "collapsed": true
   },
   "outputs": [],
   "source": [
    "import pandas as pd\n",
    "import numpy as np\n",
    "import datetime as datetime\n",
    "from datetime import datetime\n",
    "from dateutil.parser import parse\n",
    "import time\n",
    "from sklearn import preprocessing"
   ]
  },
  {
   "cell_type": "code",
   "execution_count": null,
   "metadata": {
    "collapsed": true
   },
   "outputs": [],
   "source": [
    "alldata=pd.read_csv(\"raw_data.txt\", sep='|')"
   ]
  },
  {
   "cell_type": "markdown",
   "metadata": {},
   "source": [
    "# Delete Features and Add Head"
   ]
  },
  {
   "cell_type": "code",
   "execution_count": null,
   "metadata": {
    "collapsed": false
   },
   "outputs": [],
   "source": [
    "def delete_and_add_head(alldata):\n",
    "# delete constant feature\n",
    "    del alldata[16]\n",
    "    del alldata[48]\n",
    "    del alldata[60]\n",
    "    del alldata[62]\n",
    "\n",
    "    head=['auth_id','acct_id','fraud_ind','acct_actvn_dt','acct_avl_cash_before_amt','acct_avl_money_before_amt','acct_credit_limit','acct_curr_balance','acct_multicard_ind','acct_open_dt','acct_prod_cd','acct_type_cd','address_vfcn_frmt_cd','address_vfcn_respns_cd','apprd_authzn_cnt','apprd_cash_authzn_cnt','authzn_acct_stat_cd','authzn_amount','authzn_type_cd','authzn_char_cd','authzn_opset_id','authzn_orig_src_id','authzn_outstd_amt','authzn_outstd_cash_amt','authzn_rqst_proc_cd','authzn_rqst_proc_dt','authzn_rqst_proc_tm','authzn_rqst_type_cd','authzn_trmnl_pin_capblt_num','avg_dly_authzn_amt','card_vfcn_2_respns_cd','card_vfcn_2_vldtn_dur','card_vfcn_msmt_reas_cd','card_vfcn_presnc_cd','card_vfcn_respns_cd','card_vfcn2_vldtn_cd','cardholder_present_cd','currency_rate','elctr_cmrc_ind_cd','home_phn_num_chng_dur','hotel_stay_car_rentl_dur','last_adr_chng_dur','last_plstc_rqst_reas_cd','mrch_type_cd','mrch_country_cd','new_user_added_dur','phn_chng_snc_appn_ind','pin_vldtn_ind','plstc_actvn_dt','plstc_actvn_reqd_ind','plstc_frst_use_ts','plstc_isu_dur','plstc_prev_curr_cd','plstc_rqst_ts','pos_cond_cd','pos_entry_mthd_cd','rcurg_authzn_ind','rvrsl_ind','src_crcy_cd','trmnl_attndnc_cd','trmnl_capblt_cd','trmnl_clasfn_cd','trmnl_id','trmnl_pin_capblt_cd','distance_from_home']\n",
    "    alldata.columns=head\n",
    "\n",
    "    #delete non-sense feature\n",
    "    del alldata['trmnl_id']\n",
    "\n",
    "    #delete skewed and non significance features\n",
    "    del alldata['acct_type_cd']\n",
    "    del alldata['authzn_opset_id']\n",
    "    del alldata['authzn_rqst_proc_cd']\n",
    "    del alldata['card_vfcn_msmt_reas_cd']\n",
    "    del alldata['phn_chng_snc_appn_ind']\n",
    "    del alldata['arqc_rslt_cd']\n",
    "    del alldata['pin_blk_cd']\n",
    "    del alldata['sendr_rsidnl_cntry_cd']\n",
    "    del alldata['src_crcy_dcml_psn_num']\n",
    "    del alldata['trmnl_id']\n",
    "\n",
    "    print alldata.shape\n",
    "\n",
    "delete_and_add_head(alldata)"
   ]
  },
  {
   "cell_type": "markdown",
   "metadata": {},
   "source": [
    "# Group Features"
   ]
  },
  {
   "cell_type": "code",
   "execution_count": null,
   "metadata": {
    "collapsed": false
   },
   "outputs": [],
   "source": [
    "# group merchant type\n",
    "def transform_merchant_type(x):\n",
    "    if x<2000:\n",
    "        x = \"con_service\"\n",
    "    elif x>=2000 and x<3000:\n",
    "        x=\"wholesale\"\n",
    "    elif x>=3000 and x<=3350:\n",
    "        x=\"airline\"\n",
    "    elif x>=3351 and x<=3500:\n",
    "        x=\"car_rental\"   \n",
    "    elif x>=3501 and x<=4000:\n",
    "        x=\"hotel\"\n",
    "    elif x>=4001 and x<4812:\n",
    "        x=\"transportation\"\n",
    "    elif x>=4812 and x<5000:\n",
    "        x=\"utilities\"\n",
    "    elif x>=5000 and x<=5199:\n",
    "        x= \"wholesale\"\n",
    "    elif x>=5200 and x<5500:\n",
    "        x=\"retail\"\n",
    "    elif x>=5500 and x<5600:\n",
    "        x=\"automobiles\"\n",
    "    elif x>=5600 and x<5700:\n",
    "        x=\"clothing\"\n",
    "    elif x>=5700 and x<6000:\n",
    "        x=\"miscellaneous\"\n",
    "    elif x>=6000 and x<7210:\n",
    "        x= \"service_provider\"\n",
    "    elif x>=7210 and x<7311:\n",
    "        x=\"personal_service\"\n",
    "    elif x>=7311 and x<7531:\n",
    "        x=\"business\"\n",
    "    elif x>=7531 and x<7829:\n",
    "        x=\"repair\"\n",
    "    elif x>=7829 and x<8000:\n",
    "        x=\"amusement\"\n",
    "    elif x>=8000 and x<9000:\n",
    "        x=\"professional_service\"\n",
    "    elif x>=9000:\n",
    "        x=\"government\"\n",
    "    elif x==9401:\n",
    "        x=\"other\"\n",
    "    elif x==7011:\n",
    "        x=\"hotel\"\n",
    "    elif x>=4511:\n",
    "        x=\"airline\"\n",
    "    elif x==7512:\n",
    "        x=\"car_rental\"\n",
    "    elif x in [7375,7379,7829,8734]:\n",
    "        x=\"wholesale\"\n",
    "    elif x in [4829,6050,6051,6529,6530,6534]:\n",
    "        x=\"quasi_cash\"\n",
    "    \n",
    "    return x\n",
    "\n",
    "# group countries\n",
    "def transform_country(x):    \n",
    "    if x in [660,28,533,44,52,535,92,136,192,531,212,214,308,312,332,388,474,500,630,652,659,662,663,670,534,780,796,850,84,188,222,320,340,484,558,591,32,68,76,152,170,218,238,254,328,600,604,740,858,862]:\n",
    "        x=\"America\"\n",
    "    elif x ==840:\n",
    "        x=\"USA\"\n",
    "    elif x in [398,417,762,795,860,51,31,48,196,268,368,376,400,414,422,275,512,634,682,760,792,784,887,96,116,360,418,458,104,608,702,764,626,704,4,50,64,356,364,462,524,586,144,156,344,446,392,408,410,496,158]:\n",
    "        x=\"Asia\"\n",
    "    elif x in [40,56,250,276,280,438,442,492,528,756,8,20,70,191,292,300,336,380,807,470,499,620,674,688,705,724,248,830,208,233,234,246,831,352,372,832,428,440,833,578,744,752,826,112,100,203,348,498,616,642,643,703,804]:\n",
    "        x=\"Europe\"\n",
    "    else:\n",
    "        x=\"Others\"\n",
    "    return x\n",
    "    \n",
    "# group currency rate\n",
    "def transform_currency(x):    \n",
    "    if x ==0:\n",
    "        x=\"a\"\n",
    "    elif x ==1000000:\n",
    "        x=\"b\"\n",
    "    else:\n",
    "        x=\"c\"\n",
    "    return x\n",
    "\n",
    "def transform_src(x):    \n",
    "    if x ==840:\n",
    "        x=\"a\"\n",
    "    else:\n",
    "        x='b'\n",
    "    return x"
   ]
  },
  {
   "cell_type": "code",
   "execution_count": null,
   "metadata": {
    "collapsed": true
   },
   "outputs": [],
   "source": [
    "def group_features(df):\n",
    "    df['mrch_country_cd'] = df.mrch_country_cd.apply(transform_country)\n",
    "    df['mrch_type_cd'] = df.mrch_type_cd.apply(transform_merchant_type)\n",
    "    df['currency_rate'] = df.currency_rate.apply(transform_currency)\n",
    "    #df['acct_prod_cd']=df.acct_prod_cd.apply(transform_acct_prod_cd)\n",
    "    df['src_crcy_cd'] = df.src_crcy_cd.apply(transform_src)\n",
    "group_features(alldata)"
   ]
  },
  {
   "cell_type": "markdown",
   "metadata": {},
   "source": [
    "# Datetime Feature Engineering\n",
    "## Raw Datatime Features:\n",
    "#### 1. authzn_rqst_proc_dt: \n",
    "#### Authorization date, *no missing\n",
    "#### 2. authzn_rqst_proc_tm: \n",
    "#### Authorization time, *no missing\n",
    "#### 3. acct_open: \n",
    "#### Account open date *no missing\n",
    "#### 4. acct_actvn_dt: \n",
    "#### First plastic on this account was activated, *With Missing. fill na=mean\n",
    "#### 5. plstc_actvn_dt: \n",
    "#### Newly issued plastic was activated, *With Missing. fill na=mean\n",
    "#### 6.  plstc_frst_use_ts: \n",
    "#### Date and time when the plastic was first used, *With Missing. fill na=mean\n",
    "#### 7.  plstc_rqst_ts:\n",
    "#### Date and time when newly issued card was requested, *With Missing. fill na=mean\n",
    "\n",
    "## Extract Features From Raw Datetime Features\n",
    "### 1. plstc_rqst_ti-plstc_use_ti"
   ]
  },
  {
   "cell_type": "code",
   "execution_count": null,
   "metadata": {
    "collapsed": false
   },
   "outputs": [],
   "source": [
    "def transform_date(x):\n",
    "    if (x!='null'):\n",
    "        x=parse(x)\n",
    "        x=time.mktime(x.timetuple())\n",
    "        return x  \n",
    "    else:\n",
    "        return 'null'              \n",
    "        \n",
    "def days1(x):\n",
    "    if (x[0]!='null')&(x[1]!='null'):\n",
    "        if x[0]<x[1]:\n",
    "            return 'earlier'\n",
    "        else:\n",
    "            return 'later'         \n",
    "    else:\n",
    "        return 'null'\n",
    "\n",
    "def date_diff1(alldata):\n",
    "    alldata['plstc_frst_use_ts'] = alldata.plstc_frst_use_ts.apply(transform_date)\n",
    "    alldata['plstc_rqst_ts'] = alldata.plstc_rqst_ts.apply(transform_date)\n",
    "    alldata['tuple']=zip(alldata['plstc_rqst_ts'],alldata['plstc_frst_use_ts'])\n",
    "    alldata['plstc_rqst_ti-plstc_use_ti']=alldata.tuple.apply(days1)\n",
    "    print alldata['plstc_rqst_ti-plstc_use_ti'].value_counts()\n",
    "    del alldata['tuple']\n",
    "    \n",
    "date_diff1(alldata)"
   ]
  },
  {
   "cell_type": "markdown",
   "metadata": {},
   "source": [
    "### 2. 'acct_actv-acct_open', all>0"
   ]
  },
  {
   "cell_type": "code",
   "execution_count": null,
   "metadata": {
    "collapsed": false
   },
   "outputs": [],
   "source": [
    "def days2(x):\n",
    "    if (x[0]!='null'):\n",
    "        date_format = \"%Y-%m-%d\"\n",
    "        a = datetime.strptime(x[0], date_format)\n",
    "        b = datetime.strptime(x[1], date_format)\n",
    "        delta = a - b\n",
    "        \n",
    "        if delta.days>366:\n",
    "            return '>a_year'\n",
    "        else:\n",
    "            return '<a_year'         \n",
    "    else:\n",
    "        return 'null'\n",
    "\n",
    "def date_diff2(alldata):   \n",
    "    alldata['tuple']=zip(alldata['acct_actvn_dt'],alldata['acct_open_dt'])\n",
    "    alldata['acct_actv-acct_open']=alldata.tuple.apply(days2)\n",
    "    print alldata['acct_actv-acct_open'].value_counts()\n",
    "    del alldata['tuple']\n",
    "    \n",
    "date_diff2(alldata)"
   ]
  },
  {
   "cell_type": "markdown",
   "metadata": {},
   "source": [
    "### 3. Account open date till 2013-10-1"
   ]
  },
  {
   "cell_type": "code",
   "execution_count": null,
   "metadata": {
    "collapsed": false
   },
   "outputs": [],
   "source": [
    "def length(x):\n",
    "    date_format = \"%Y-%m-%d\"\n",
    "    a = datetime.strptime(x, date_format)\n",
    "    b = datetime.strptime(('2013-10-1'), date_format)\n",
    "    delta = b - a\n",
    "    return delta.days\n",
    "\n",
    "def open_days(alldata):\n",
    "    alldata['acct_open_length']=alldata.acct_open_dt.apply(length)\n",
    "\n",
    "open_days(alldata)"
   ]
  },
  {
   "cell_type": "markdown",
   "metadata": {},
   "source": [
    "### 4. plstc_actv_dt-acct_open_dt , all>0"
   ]
  },
  {
   "cell_type": "code",
   "execution_count": null,
   "metadata": {
    "collapsed": false
   },
   "outputs": [],
   "source": [
    "def days3(x):\n",
    "    if (x[0]!='null'):\n",
    "        date_format = \"%Y-%m-%d\"\n",
    "        a = datetime.strptime(x[0], date_format)\n",
    "        b = datetime.strptime(x[1], date_format)\n",
    "        delta = a - b\n",
    "        \n",
    "        if delta.days>366:\n",
    "            return '>a_year'\n",
    "        else:\n",
    "            return '<a_year'\n",
    "    else:\n",
    "        return 'null'\n",
    "    \n",
    "def date_diff3(alldata):\n",
    "    alldata['tuple']=zip(alldata['plstc_actvn_dt'],alldata['acct_open_dt'])#all \"plstc_actv_dt\" were later than \"acct_actv_dt\"\n",
    "    alldata['plstc_actv_dt-acct_open_dt']=alldata.tuple.apply(days3)\n",
    "    print alldata['plstc_actv_dt-acct_open_dt'].value_counts()\n",
    "    del alldata['tuple']\n",
    "\n",
    "date_diff3(alldata)"
   ]
  },
  {
   "cell_type": "markdown",
   "metadata": {},
   "source": [
    "###  5. plstc_actv_dt-acct_actv_dt, all>=0, most are on the same day\n"
   ]
  },
  {
   "cell_type": "code",
   "execution_count": null,
   "metadata": {
    "collapsed": false
   },
   "outputs": [],
   "source": [
    "def days4(x):\n",
    "    if (x[0]!='null'):\n",
    "        date_format = \"%Y-%m-%d\"\n",
    "        a = datetime.strptime(x[0], date_format)\n",
    "        b = datetime.strptime(x[1], date_format)\n",
    "        delta = a - b\n",
    "        \n",
    "        if delta.days<366:\n",
    "            return '<a_year'\n",
    "        else:\n",
    "            return '>a_year' \n",
    "    else:\n",
    "        return 'null'\n",
    "\n",
    "def date_diff4(alldata):\n",
    "        alldata['tuple']=zip(alldata['plstc_actvn_dt'],alldata['acct_actvn_dt'])#all \"plstc_actv_dt\" were later than \"acct_actv_dt\"\n",
    "        alldata['plstc_actv_dt-acct_actv_dt']=alldata.tuple.apply(days4)\n",
    "        print alldata['plstc_actv_dt-acct_actv_dt'].value_counts()\n",
    "        del alldata['tuple']\n",
    "\n",
    "date_diff4(alldata)"
   ]
  },
  {
   "cell_type": "markdown",
   "metadata": {},
   "source": [
    "### 6. Authorization time: Classify as Morining or Evening "
   ]
  },
  {
   "cell_type": "code",
   "execution_count": null,
   "metadata": {
    "collapsed": false
   },
   "outputs": [],
   "source": [
    "def morning(x):\n",
    "    if x>=8 and x<=20:\n",
    "        x='m'\n",
    "    else:\n",
    "        x='n'\n",
    "    return x\n",
    "def get_m(alldata):\n",
    "    alldata['authzn_rqst_proc_tm'] = alldata.authzn_rqst_proc_tm.apply(lambda x: x.rsplit('.', 1)[0])\n",
    "    dac = np.vstack(alldata.authzn_rqst_proc_tm.apply(lambda x: list(map(int, x.split(':')))).values)\n",
    "    alldata['authzn_rqst_hour'] = dac[:,0]\n",
    "    alldata['authzn_rqst_hour']=alldata.authzn_rqst_hour.apply(morning)\n",
    "    \n",
    "get_m(alldata)"
   ]
  },
  {
   "cell_type": "markdown",
   "metadata": {},
   "source": [
    "## Delete raw features"
   ]
  },
  {
   "cell_type": "code",
   "execution_count": null,
   "metadata": {
    "collapsed": false
   },
   "outputs": [],
   "source": [
    "def delete_time(alldata):\n",
    "    del alldata['acct_actvn_dt'],alldata['acct_open_dt'],alldata['plstc_actvn_dt']\n",
    "    del alldata[\"authzn_rqst_proc_dt\"],alldata[\"authzn_rqst_proc_tm\"]\n",
    "    del alldata['plstc_rqst_ts'],alldata['plstc_frst_use_ts']\n",
    "\n",
    "delete_time(alldata)"
   ]
  },
  {
   "cell_type": "markdown",
   "metadata": {},
   "source": [
    "# Categorical--Get Dummy"
   ]
  },
  {
   "cell_type": "code",
   "execution_count": null,
   "metadata": {
    "collapsed": false
   },
   "outputs": [],
   "source": [
    "def apply_one_hot_encoding(pd_frame, column_list):\n",
    "    new_column_list = []\n",
    "    for col in column_list:\n",
    "        tmp = pd.get_dummies(pd_frame[col], prefix=col)\n",
    "        new_column_list.append(tmp)\n",
    "    new_pd_frame = pd.concat(new_column_list+[pd_frame], axis=1)\n",
    "    new_pd_frame.drop(column_list, inplace=True, axis=1)\n",
    "    return new_pd_frame\n",
    "columns=[                  \n",
    "            \"acct_multicard_ind\",          \n",
    "            \"address_vfcn_frmt_cd\",        \n",
    "            \"address_vfcn_respns_cd\",     \n",
    "            \"authzn_acct_stat_cd\",         \n",
    "            \"authzn_type_cd\",              \n",
    "            \"authzn_char_cd\",             \n",
    "            \"authzn_orig_src_id\",          \n",
    "            \"authzn_rqst_type_cd\",         \n",
    "            \"authzn_trmnl_pin_capblt_num\", \n",
    "            \"card_vfcn_2_respns_cd\",    \n",
    "            'card_vfcn_presnc_cd',    \n",
    "            \"card_vfcn_respns_cd\",         \n",
    "            \"card_vfcn2_vldtn_cd\",         \n",
    "            \"cardholder_present_cd\",\n",
    "            'currency_rate',\n",
    "            \"elctr_cmrc_ind_cd\", \n",
    "            \"last_plstc_rqst_reas_cd\",     \n",
    "            \"mrch_country_cd\",             \n",
    "            \"pin_vldtn_ind\",               \n",
    "            \"plstc_actvn_reqd_ind\",        \n",
    "            \"plstc_prev_curr_cd\",          \n",
    "            \"pos_cond_cd\",                 \n",
    "            \"pos_entry_mthd_cd\",          \n",
    "            \"rcurg_authzn_ind\",            \n",
    "            \"rvrsl_ind\", \n",
    "            'src_crcy_cd',\n",
    "            \"trmnl_attndnc_cd\",            \n",
    "            \"trmnl_capblt_cd\",             \n",
    "            \"trmnl_clasfn_cd\",             \n",
    "            \"trmnl_pin_capblt_cd\",         \n",
    "            \"acct_prod_cd\",               \n",
    "            \"mrch_type_cd\",\n",
    "            'authzn_rqst_hour',\n",
    "            'plstc_actv_dt-acct_actv_dt',\n",
    "            'plstc_actv_dt-acct_open_dt',\n",
    "            'acct_actv-acct_open',\n",
    "            'plstc_rqst_ti-plstc_use_ti',\n",
    "            '7days_4hour',\n",
    "            '7days_5hour',\n",
    "            '7days_6hour',\n",
    "            '15days_4hour',\n",
    "            '15days_5hour',\n",
    "            '15days_6hour',\n",
    "            '30days_4hour',\n",
    "            '30days_5hour',\n",
    "            '30days_6hour'\n",
    "            ]"
   ]
  },
  {
   "cell_type": "code",
   "execution_count": null,
   "metadata": {
    "collapsed": true
   },
   "outputs": [],
   "source": [
    "allfeatures = apply_one_hot_encoding(alldata, columns)\n",
    "allfeatures.to_csv('preprocessed_data.txt',sep='|',index=None)"
   ]
  }
 ],
 "metadata": {
  "anaconda-cloud": {},
  "kernelspec": {
   "display_name": "Python [Root]",
   "language": "python",
   "name": "Python [Root]"
  },
  "language_info": {
   "codemirror_mode": {
    "name": "ipython",
    "version": 2
   },
   "file_extension": ".py",
   "mimetype": "text/x-python",
   "name": "python",
   "nbconvert_exporter": "python",
   "pygments_lexer": "ipython2",
   "version": "2.7.12"
  }
 },
 "nbformat": 4,
 "nbformat_minor": 0
}
